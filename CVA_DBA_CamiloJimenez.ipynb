{
  "nbformat": 4,
  "nbformat_minor": 0,
  "metadata": {
    "colab": {
      "name": "CVA_DBA_CamiloJimenez.ipynb",
      "provenance": [],
      "collapsed_sections": [],
      "toc_visible": true
    },
    "kernelspec": {
      "name": "python3",
      "display_name": "Python 3"
    }
  },
  "cells": [
    {
      "cell_type": "code",
      "metadata": {
        "colab": {
          "base_uri": "https://localhost:8080/"
        },
        "id": "JmpmM9tRD9YY",
        "outputId": "c4d20313-63d4-443e-d804-081f395f69a8"
      },
      "source": [
        "############################# CALCULO DE CVA y DVA #############################\n",
        "\n",
        "# Se cargan las librerías a emplear en el cálculo del CVA y DBA\n",
        "# Debido a que la librería de Quantlib no está instalada en Colab, aplicamos el pip\n",
        "# Si ejecuta esto en un IDE de python, como pycharm, previamente debe tener instalados estas librerías\n",
        "\n",
        "import pandas as pd\n",
        "import numpy as np\n",
        "import matplotlib.pyplot as plt\n",
        "\n",
        "!pip install QuantLib\n",
        "import QuantLib as ql"
      ],
      "execution_count": 1,
      "outputs": [
        {
          "output_type": "stream",
          "text": [
            "Requirement already satisfied: QuantLib in /usr/local/lib/python3.6/dist-packages (1.20)\n"
          ],
          "name": "stdout"
        }
      ]
    },
    {
      "cell_type": "code",
      "metadata": {
        "colab": {
          "resources": {
            "http://localhost:8080/nbextensions/google.colab/files.js": {
              "data": "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",
              "ok": true,
              "headers": [
                [
                  "content-type",
                  "application/javascript"
                ]
              ],
              "status": 200,
              "status_text": ""
            }
          },
          "base_uri": "https://localhost:8080/",
          "height": 72
        },
        "id": "CSUBh7mCEcma",
        "outputId": "175d1a45-2cc5-4adc-f78a-d0e1733daf97"
      },
      "source": [
        "# Carga desde el dispositivo, el archivo en excel tal cual como me fue enviado por correo \"Factores_Prueba_Analista.xlsx\" al google colaboratory\n",
        "from google.colab import files \n",
        "uploaded = files.upload()"
      ],
      "execution_count": 2,
      "outputs": [
        {
          "output_type": "display_data",
          "data": {
            "text/html": [
              "\n",
              "     <input type=\"file\" id=\"files-ada3a1a5-5d49-41e0-ad56-563ecdf93c21\" name=\"files[]\" multiple disabled\n",
              "        style=\"border:none\" />\n",
              "     <output id=\"result-ada3a1a5-5d49-41e0-ad56-563ecdf93c21\">\n",
              "      Upload widget is only available when the cell has been executed in the\n",
              "      current browser session. Please rerun this cell to enable.\n",
              "      </output>\n",
              "      <script src=\"/nbextensions/google.colab/files.js\"></script> "
            ],
            "text/plain": [
              "<IPython.core.display.HTML object>"
            ]
          },
          "metadata": {
            "tags": []
          }
        },
        {
          "output_type": "stream",
          "text": [
            "Saving Factores_Prueba_Analista.xlsx to Factores_Prueba_Analista (7).xlsx\n"
          ],
          "name": "stdout"
        }
      ]
    },
    {
      "cell_type": "code",
      "metadata": {
        "colab": {
          "base_uri": "https://localhost:8080/"
        },
        "id": "HNK5IkNKEp8t",
        "outputId": "45655808-4f5b-47e9-a74a-95038258c462"
      },
      "source": [
        "#Creamos un dataframe para cada hoja del excel\n",
        "#Dataframe de la hoja 0\n",
        "import io                \n",
        "df0 = pd.read_excel(io.BytesIO(uploaded['Factores_Prueba_Analista.xlsx']),sheet_name=0)                        \n",
        "print(df0)"
      ],
      "execution_count": 3,
      "outputs": [
        {
          "output_type": "stream",
          "text": [
            "          Fecha      TRM\n",
            "0    2012-12-19  1790.46\n",
            "1    2012-12-20  1788.87\n",
            "2    2012-12-21  1779.79\n",
            "3    2012-12-24  1773.44\n",
            "4    2012-12-25  1773.44\n",
            "...         ...      ...\n",
            "2041 2020-10-15  3854.47\n",
            "2042 2020-10-16  3846.48\n",
            "2043 2020-10-19  3842.76\n",
            "2044 2020-10-20  3830.79\n",
            "2045 2020-10-21  3784.51\n",
            "\n",
            "[2046 rows x 2 columns]\n"
          ],
          "name": "stdout"
        }
      ]
    },
    {
      "cell_type": "code",
      "metadata": {
        "colab": {
          "base_uri": "https://localhost:8080/"
        },
        "id": "U3BXD7E0EtpV",
        "outputId": "2fbce715-066d-49e8-cc5a-5aacbca8a194"
      },
      "source": [
        "#Dataframe de la hoja 1\n",
        "import io                \n",
        "df1 = pd.read_excel(io.BytesIO(uploaded['Factores_Prueba_Analista.xlsx']),sheet_name=1)                        \n",
        "print(df1)"
      ],
      "execution_count": 4,
      "outputs": [
        {
          "output_type": "stream",
          "text": [
            "     Fecha\\Nodos        1        30  ...      5400      7200      9000\n",
            "0     2016-06-30  0.07134  0.071668  ...  0.136527  0.181485  0.229771\n",
            "1     2016-07-01  0.07129  0.071664  ...  0.136645  0.181623  0.230016\n",
            "2     2016-07-04  0.07129  0.071664  ...  0.136645  0.181623  0.230016\n",
            "3     2016-07-05  0.07125  0.071889  ...  0.131146  0.173814  0.219429\n",
            "4     2016-07-06  0.07128  0.071889  ...  0.131042  0.173688  0.219255\n",
            "...          ...      ...       ...  ...       ...       ...       ...\n",
            "1120  2020-10-15  0.01710  0.017369  ...  0.079027  0.102223  0.118545\n",
            "1121  2020-10-16  0.01711  0.017237  ...  0.079048  0.102254  0.118563\n",
            "1122  2020-10-19  0.01711  0.017102  ...  0.078965  0.102148  0.118474\n",
            "1123  2020-10-20  0.01712  0.017103  ...  0.078700  0.101774  0.118002\n",
            "1124  2020-10-21  0.01712  0.017309  ...  0.078218  0.101092  0.117123\n",
            "\n",
            "[1125 rows x 21 columns]\n"
          ],
          "name": "stdout"
        }
      ]
    },
    {
      "cell_type": "code",
      "metadata": {
        "colab": {
          "base_uri": "https://localhost:8080/"
        },
        "id": "FLxlQdJ5ExHN",
        "outputId": "ef956f73-370c-44f6-f99a-4002d0d757a9"
      },
      "source": [
        "#Dataframe de la hoja 2\n",
        "import io                \n",
        "df2 = pd.read_excel(io.BytesIO(uploaded['Factores_Prueba_Analista.xlsx']),sheet_name=2)                        \n",
        "print(df2)"
      ],
      "execution_count": 5,
      "outputs": [
        {
          "output_type": "stream",
          "text": [
            "     Fechas/Nodos         1         7  ...      5400      7200      9000\n",
            "0      2016-06-30 -0.001424 -0.001718  ...  0.022220  0.025318  0.027891\n",
            "1      2016-07-01 -0.001590 -0.001175  ...  0.021822  0.024864  0.027306\n",
            "2      2016-07-04 -0.001590 -0.001175  ...  0.021822  0.024864  0.027306\n",
            "3      2016-07-05 -0.000341 -0.000570  ...  0.020690  0.023608  0.025872\n",
            "4      2016-07-06  0.000555  0.001182  ...  0.021169  0.024116  0.026482\n",
            "...           ...       ...       ...  ...       ...       ...       ...\n",
            "1120   2020-10-15  0.003090 -0.000198  ...  0.004195  0.005536  0.006189\n",
            "1121   2020-10-16  0.001199 -0.000516  ...  0.004374  0.005835  0.006428\n",
            "1122   2020-10-19 -0.000690 -0.001627  ...  0.004656  0.006010  0.006635\n",
            "1123   2020-10-20  0.002084 -0.001141  ...  0.004981  0.006393  0.007065\n",
            "1124   2020-10-21  0.004754  0.000169  ...  0.004676  0.006084  0.006755\n",
            "\n",
            "[1125 rows x 24 columns]\n"
          ],
          "name": "stdout"
        }
      ]
    },
    {
      "cell_type": "code",
      "metadata": {
        "colab": {
          "base_uri": "https://localhost:8080/",
          "height": 202
        },
        "id": "Z-rLf7S8FwHI",
        "outputId": "f13eafa4-7e6e-46fc-bf75-b3c0bc2706ed"
      },
      "source": [
        "# De la hoja TRM, Calculo la variación día a día \n",
        "# Para no afectar el dataframe u hoja del excel, decido crear una copia, donde vamos a agregar esta variación\n",
        "trm_var = df0\n",
        "# Corroborar que se haya asignado la hoja TRM  a ese nuevo dataframe\n",
        "trm_var.head()"
      ],
      "execution_count": 6,
      "outputs": [
        {
          "output_type": "execute_result",
          "data": {
            "text/html": [
              "<div>\n",
              "<style scoped>\n",
              "    .dataframe tbody tr th:only-of-type {\n",
              "        vertical-align: middle;\n",
              "    }\n",
              "\n",
              "    .dataframe tbody tr th {\n",
              "        vertical-align: top;\n",
              "    }\n",
              "\n",
              "    .dataframe thead th {\n",
              "        text-align: right;\n",
              "    }\n",
              "</style>\n",
              "<table border=\"1\" class=\"dataframe\">\n",
              "  <thead>\n",
              "    <tr style=\"text-align: right;\">\n",
              "      <th></th>\n",
              "      <th>Fecha</th>\n",
              "      <th>TRM</th>\n",
              "    </tr>\n",
              "  </thead>\n",
              "  <tbody>\n",
              "    <tr>\n",
              "      <th>0</th>\n",
              "      <td>2012-12-19</td>\n",
              "      <td>1790.46</td>\n",
              "    </tr>\n",
              "    <tr>\n",
              "      <th>1</th>\n",
              "      <td>2012-12-20</td>\n",
              "      <td>1788.87</td>\n",
              "    </tr>\n",
              "    <tr>\n",
              "      <th>2</th>\n",
              "      <td>2012-12-21</td>\n",
              "      <td>1779.79</td>\n",
              "    </tr>\n",
              "    <tr>\n",
              "      <th>3</th>\n",
              "      <td>2012-12-24</td>\n",
              "      <td>1773.44</td>\n",
              "    </tr>\n",
              "    <tr>\n",
              "      <th>4</th>\n",
              "      <td>2012-12-25</td>\n",
              "      <td>1773.44</td>\n",
              "    </tr>\n",
              "  </tbody>\n",
              "</table>\n",
              "</div>"
            ],
            "text/plain": [
              "       Fecha      TRM\n",
              "0 2012-12-19  1790.46\n",
              "1 2012-12-20  1788.87\n",
              "2 2012-12-21  1779.79\n",
              "3 2012-12-24  1773.44\n",
              "4 2012-12-25  1773.44"
            ]
          },
          "metadata": {
            "tags": []
          },
          "execution_count": 6
        }
      ]
    },
    {
      "cell_type": "code",
      "metadata": {
        "colab": {
          "base_uri": "https://localhost:8080/",
          "height": 296
        },
        "id": "Zt7wK8MkJl2D",
        "outputId": "e1be53b5-0914-4d53-82f1-b1f53840cb08"
      },
      "source": [
        "# Graficamos el comportamiento de la TRM en el tiempo\n",
        "trm_var.plot('Fecha','TRM')"
      ],
      "execution_count": 7,
      "outputs": [
        {
          "output_type": "execute_result",
          "data": {
            "text/plain": [
              "<matplotlib.axes._subplots.AxesSubplot at 0x7ff2d3ab5198>"
            ]
          },
          "metadata": {
            "tags": []
          },
          "execution_count": 7
        },
        {
          "output_type": "display_data",
          "data": {
            "image/png": "[encoded data removed]",
            "text/plain": [
              "<Figure size 432x288 with 1 Axes>"
            ]
          },
          "metadata": {
            "tags": [],
            "needs_background": "light"
          }
        }
      ]
    },
    {
      "cell_type": "code",
      "metadata": {
        "id": "Nvo7IydyKcn4",
        "colab": {
          "base_uri": "https://localhost:8080/"
        },
        "outputId": "bb5a7ada-92db-4bbf-af3e-aa286aa5f7aa"
      },
      "source": [
        "# Tipo de dato en cada columna del df\n",
        "trm_var.dtypes"
      ],
      "execution_count": 8,
      "outputs": [
        {
          "output_type": "execute_result",
          "data": {
            "text/plain": [
              "Fecha    datetime64[ns]\n",
              "TRM             float64\n",
              "dtype: object"
            ]
          },
          "metadata": {
            "tags": []
          },
          "execution_count": 8
        }
      ]
    },
    {
      "cell_type": "code",
      "metadata": {
        "id": "7iDiYuTfJnU1",
        "colab": {
          "base_uri": "https://localhost:8080/"
        },
        "outputId": "7e2a97c7-b27e-48d0-ab3a-2a6edcfaec35"
      },
      "source": [
        "# Realizamos el cálculo de la variación en el tiempo\n",
        "trm_var['Variación'] = (trm_var['TRM'].pct_change())\n",
        "trm_var['Variación']"
      ],
      "execution_count": 9,
      "outputs": [
        {
          "output_type": "execute_result",
          "data": {
            "text/plain": [
              "0            NaN\n",
              "1      -0.000888\n",
              "2      -0.005076\n",
              "3      -0.003568\n",
              "4       0.000000\n",
              "          ...   \n",
              "2041    0.002831\n",
              "2042   -0.002073\n",
              "2043   -0.000967\n",
              "2044   -0.003115\n",
              "2045   -0.012081\n",
              "Name: Variación, Length: 2046, dtype: float64"
            ]
          },
          "metadata": {
            "tags": []
          },
          "execution_count": 9
        }
      ]
    },
    {
      "cell_type": "code",
      "metadata": {
        "id": "Ti-rDz-rTJ1e",
        "colab": {
          "base_uri": "https://localhost:8080/",
          "height": 202
        },
        "outputId": "6d9e76b8-06d7-41b0-aa9b-0c78e954bef6"
      },
      "source": [
        "# Comprobamos la creación de la nueva columna en el df, con la variación día a día\n",
        "trm_var.head()"
      ],
      "execution_count": 10,
      "outputs": [
        {
          "output_type": "execute_result",
          "data": {
            "text/html": [
              "<div>\n",
              "<style scoped>\n",
              "    .dataframe tbody tr th:only-of-type {\n",
              "        vertical-align: middle;\n",
              "    }\n",
              "\n",
              "    .dataframe tbody tr th {\n",
              "        vertical-align: top;\n",
              "    }\n",
              "\n",
              "    .dataframe thead th {\n",
              "        text-align: right;\n",
              "    }\n",
              "</style>\n",
              "<table border=\"1\" class=\"dataframe\">\n",
              "  <thead>\n",
              "    <tr style=\"text-align: right;\">\n",
              "      <th></th>\n",
              "      <th>Fecha</th>\n",
              "      <th>TRM</th>\n",
              "      <th>Variación</th>\n",
              "    </tr>\n",
              "  </thead>\n",
              "  <tbody>\n",
              "    <tr>\n",
              "      <th>0</th>\n",
              "      <td>2012-12-19</td>\n",
              "      <td>1790.46</td>\n",
              "      <td>NaN</td>\n",
              "    </tr>\n",
              "    <tr>\n",
              "      <th>1</th>\n",
              "      <td>2012-12-20</td>\n",
              "      <td>1788.87</td>\n",
              "      <td>-0.000888</td>\n",
              "    </tr>\n",
              "    <tr>\n",
              "      <th>2</th>\n",
              "      <td>2012-12-21</td>\n",
              "      <td>1779.79</td>\n",
              "      <td>-0.005076</td>\n",
              "    </tr>\n",
              "    <tr>\n",
              "      <th>3</th>\n",
              "      <td>2012-12-24</td>\n",
              "      <td>1773.44</td>\n",
              "      <td>-0.003568</td>\n",
              "    </tr>\n",
              "    <tr>\n",
              "      <th>4</th>\n",
              "      <td>2012-12-25</td>\n",
              "      <td>1773.44</td>\n",
              "      <td>0.000000</td>\n",
              "    </tr>\n",
              "  </tbody>\n",
              "</table>\n",
              "</div>"
            ],
            "text/plain": [
              "       Fecha      TRM  Variación\n",
              "0 2012-12-19  1790.46        NaN\n",
              "1 2012-12-20  1788.87  -0.000888\n",
              "2 2012-12-21  1779.79  -0.005076\n",
              "3 2012-12-24  1773.44  -0.003568\n",
              "4 2012-12-25  1773.44   0.000000"
            ]
          },
          "metadata": {
            "tags": []
          },
          "execution_count": 10
        }
      ]
    },
    {
      "cell_type": "code",
      "metadata": {
        "id": "sIdFOHpaT0Ox",
        "colab": {
          "base_uri": "https://localhost:8080/"
        },
        "outputId": "282b2011-a53a-4116-b982-163d04e68c28"
      },
      "source": [
        "# Determinamos dos medidas que vamos a usar más adelante, media y desvStd de la variación asumiendo año con 365 días \n",
        "# (Por eso en la ecuación se realizó la conversión para que quede ambos valores a anual\n",
        "trm_mean_dia = trm_var['Variación'].mean()\n",
        "trm_DevStd_dia = trm_var['Variación'].std()\n",
        "\n",
        "# Se realiza la conversión de estos dos resultado, a anual:\n",
        "trm_mean_año = trm_mean_dia*365*100\n",
        "trm_DevStd_año = trm_DevStd_dia*(np.sqrt(365))*100\n",
        "print(f\"El promedio de la variación de tasas TRM (diarias) anual es: {trm_mean_año} %\")\n",
        "print(f\"La desviación estandar de la variación de tasas TRM (diarias) anual es: {trm_DevStd_año}%\")"
      ],
      "execution_count": 11,
      "outputs": [
        {
          "output_type": "stream",
          "text": [
            "El promedio de la variación de tasas TRM (diarias) anual es: 14.38175815886498 %\n",
            "La desviación estandar de la variación de tasas TRM (diarias) anual es: 14.308090435238125%\n"
          ],
          "name": "stdout"
        }
      ]
    },
    {
      "cell_type": "code",
      "metadata": {
        "id": "39fJMk8lWVFL",
        "colab": {
          "base_uri": "https://localhost:8080/"
        },
        "outputId": "ab4f1bf6-ba05-4464-c357-c32002fc0f91"
      },
      "source": [
        "# Calculamos la devaluación entre las dos curvas IBR y USDIBR, teniendo en cuenta que ambas tienen nodos diferentes\n",
        "# Así como en el caso de la hoja TRM, para no afectar el dataframe, creamos dos nuevos dataframe\n",
        "ibr = df1\n",
        "usdibr = df2\n",
        "# Se realiza la devaluación al periodo de un año, es decir, al nodo 360. Para ello colocamos el nombre de la columna (360) para ambas IBR.\n",
        "devaluacion = (((1+ibr[360])/(1+usdibr[360]))-1)*100\n",
        "devaluacion\n",
        "# 2. mirar en dataframes como llamar las columnas 360 si es con '360' o con 0:,1:5 o algo así"
      ],
      "execution_count": 12,
      "outputs": [
        {
          "output_type": "execute_result",
          "data": {
            "text/plain": [
              "0       6.962092\n",
              "1       6.999462\n",
              "2       6.999462\n",
              "3       6.978914\n",
              "4       6.900203\n",
              "          ...   \n",
              "1120    2.157997\n",
              "1121    2.162164\n",
              "1122    2.157390\n",
              "1123    2.148386\n",
              "1124    2.133397\n",
              "Name: 360, Length: 1125, dtype: float64"
            ]
          },
          "metadata": {
            "tags": []
          },
          "execution_count": 12
        }
      ]
    },
    {
      "cell_type": "code",
      "metadata": {
        "id": "JoA6ah3tJk0W",
        "colab": {
          "base_uri": "https://localhost:8080/"
        },
        "outputId": "2a619954-1255-44ed-af40-80f6aa988568"
      },
      "source": [
        "# Calculamos la moda y la desviación estandar para esta devaluación (Nodo = 1 año o 360 días)\n",
        "deval_mean = devaluacion.mean()\n",
        "deval_DevStd = devaluacion.std()\n",
        "print(f\"El promedio de la devaluación anual (nodo = 360 días) es: {deval_mean} %\")\n",
        "print(f\"La desviación estandar de la devaluación anual (nodo = 360 días) es: {deval_DevStd}%\")"
      ],
      "execution_count": 13,
      "outputs": [
        {
          "output_type": "stream",
          "text": [
            "El promedio de la devaluación anual (nodo = 360 días) es: 3.089171866780428 %\n",
            "La desviación estandar de la devaluación anual (nodo = 360 días) es: 1.4485816608907904%\n"
          ],
          "name": "stdout"
        }
      ]
    },
    {
      "cell_type": "markdown",
      "metadata": {
        "id": "gywoKMQfLMNf"
      },
      "source": [
        "# Modelo CVA - DVA empleando factor de riesgo: IBR - USDIBR"
      ]
    },
    {
      "cell_type": "code",
      "metadata": {
        "id": "Yoxq0fg7Lh3d",
        "colab": {
          "base_uri": "https://localhost:8080/",
          "height": 416
        },
        "outputId": "c723ef86-22c5-4cc6-8700-d8727c0eed59"
      },
      "source": [
        "# Con base a la literatura sugerida, y con las formulas encontradas para hallar EE, DF, desarrollamos una tabla\n",
        "# con proyección de 1 a 365 días (Pudo haber sido, solo hasta 60 que es el horizonte de 2 meses planteado en el ejercicio)\n",
        "\n",
        "CVA_IBR = pd.DataFrame(index=np.arange(1,366),columns='Días Años'.split())\n",
        "CVA_IBR['Días'] = np.arange(1,366)\n",
        "CVA_IBR"
      ],
      "execution_count": 14,
      "outputs": [
        {
          "output_type": "execute_result",
          "data": {
            "text/html": [
              "<div>\n",
              "<style scoped>\n",
              "    .dataframe tbody tr th:only-of-type {\n",
              "        vertical-align: middle;\n",
              "    }\n",
              "\n",
              "    .dataframe tbody tr th {\n",
              "        vertical-align: top;\n",
              "    }\n",
              "\n",
              "    .dataframe thead th {\n",
              "        text-align: right;\n",
              "    }\n",
              "</style>\n",
              "<table border=\"1\" class=\"dataframe\">\n",
              "  <thead>\n",
              "    <tr style=\"text-align: right;\">\n",
              "      <th></th>\n",
              "      <th>Días</th>\n",
              "      <th>Años</th>\n",
              "    </tr>\n",
              "  </thead>\n",
              "  <tbody>\n",
              "    <tr>\n",
              "      <th>1</th>\n",
              "      <td>1</td>\n",
              "      <td>NaN</td>\n",
              "    </tr>\n",
              "    <tr>\n",
              "      <th>2</th>\n",
              "      <td>2</td>\n",
              "      <td>NaN</td>\n",
              "    </tr>\n",
              "    <tr>\n",
              "      <th>3</th>\n",
              "      <td>3</td>\n",
              "      <td>NaN</td>\n",
              "    </tr>\n",
              "    <tr>\n",
              "      <th>4</th>\n",
              "      <td>4</td>\n",
              "      <td>NaN</td>\n",
              "    </tr>\n",
              "    <tr>\n",
              "      <th>5</th>\n",
              "      <td>5</td>\n",
              "      <td>NaN</td>\n",
              "    </tr>\n",
              "    <tr>\n",
              "      <th>...</th>\n",
              "      <td>...</td>\n",
              "      <td>...</td>\n",
              "    </tr>\n",
              "    <tr>\n",
              "      <th>361</th>\n",
              "      <td>361</td>\n",
              "      <td>NaN</td>\n",
              "    </tr>\n",
              "    <tr>\n",
              "      <th>362</th>\n",
              "      <td>362</td>\n",
              "      <td>NaN</td>\n",
              "    </tr>\n",
              "    <tr>\n",
              "      <th>363</th>\n",
              "      <td>363</td>\n",
              "      <td>NaN</td>\n",
              "    </tr>\n",
              "    <tr>\n",
              "      <th>364</th>\n",
              "      <td>364</td>\n",
              "      <td>NaN</td>\n",
              "    </tr>\n",
              "    <tr>\n",
              "      <th>365</th>\n",
              "      <td>365</td>\n",
              "      <td>NaN</td>\n",
              "    </tr>\n",
              "  </tbody>\n",
              "</table>\n",
              "<p>365 rows × 2 columns</p>\n",
              "</div>"
            ],
            "text/plain": [
              "     Días Años\n",
              "1       1  NaN\n",
              "2       2  NaN\n",
              "3       3  NaN\n",
              "4       4  NaN\n",
              "5       5  NaN\n",
              "..    ...  ...\n",
              "361   361  NaN\n",
              "362   362  NaN\n",
              "363   363  NaN\n",
              "364   364  NaN\n",
              "365   365  NaN\n",
              "\n",
              "[365 rows x 2 columns]"
            ]
          },
          "metadata": {
            "tags": []
          },
          "execution_count": 14
        }
      ]
    },
    {
      "cell_type": "code",
      "metadata": {
        "id": "C6oDVgJOP64-",
        "colab": {
          "base_uri": "https://localhost:8080/",
          "height": 416
        },
        "outputId": "b9b14dcc-0b83-4635-b59c-6f23ccc78732"
      },
      "source": [
        "# Se calcula el equivalente en años, de cada día, para la columna Años\n",
        "\n",
        "CVA_IBR['Años'] = CVA_IBR['Días']/365\n",
        "CVA_IBR"
      ],
      "execution_count": 15,
      "outputs": [
        {
          "output_type": "execute_result",
          "data": {
            "text/html": [
              "<div>\n",
              "<style scoped>\n",
              "    .dataframe tbody tr th:only-of-type {\n",
              "        vertical-align: middle;\n",
              "    }\n",
              "\n",
              "    .dataframe tbody tr th {\n",
              "        vertical-align: top;\n",
              "    }\n",
              "\n",
              "    .dataframe thead th {\n",
              "        text-align: right;\n",
              "    }\n",
              "</style>\n",
              "<table border=\"1\" class=\"dataframe\">\n",
              "  <thead>\n",
              "    <tr style=\"text-align: right;\">\n",
              "      <th></th>\n",
              "      <th>Días</th>\n",
              "      <th>Años</th>\n",
              "    </tr>\n",
              "  </thead>\n",
              "  <tbody>\n",
              "    <tr>\n",
              "      <th>1</th>\n",
              "      <td>1</td>\n",
              "      <td>0.002740</td>\n",
              "    </tr>\n",
              "    <tr>\n",
              "      <th>2</th>\n",
              "      <td>2</td>\n",
              "      <td>0.005479</td>\n",
              "    </tr>\n",
              "    <tr>\n",
              "      <th>3</th>\n",
              "      <td>3</td>\n",
              "      <td>0.008219</td>\n",
              "    </tr>\n",
              "    <tr>\n",
              "      <th>4</th>\n",
              "      <td>4</td>\n",
              "      <td>0.010959</td>\n",
              "    </tr>\n",
              "    <tr>\n",
              "      <th>5</th>\n",
              "      <td>5</td>\n",
              "      <td>0.013699</td>\n",
              "    </tr>\n",
              "    <tr>\n",
              "      <th>...</th>\n",
              "      <td>...</td>\n",
              "      <td>...</td>\n",
              "    </tr>\n",
              "    <tr>\n",
              "      <th>361</th>\n",
              "      <td>361</td>\n",
              "      <td>0.989041</td>\n",
              "    </tr>\n",
              "    <tr>\n",
              "      <th>362</th>\n",
              "      <td>362</td>\n",
              "      <td>0.991781</td>\n",
              "    </tr>\n",
              "    <tr>\n",
              "      <th>363</th>\n",
              "      <td>363</td>\n",
              "      <td>0.994521</td>\n",
              "    </tr>\n",
              "    <tr>\n",
              "      <th>364</th>\n",
              "      <td>364</td>\n",
              "      <td>0.997260</td>\n",
              "    </tr>\n",
              "    <tr>\n",
              "      <th>365</th>\n",
              "      <td>365</td>\n",
              "      <td>1.000000</td>\n",
              "    </tr>\n",
              "  </tbody>\n",
              "</table>\n",
              "<p>365 rows × 2 columns</p>\n",
              "</div>"
            ],
            "text/plain": [
              "     Días      Años\n",
              "1       1  0.002740\n",
              "2       2  0.005479\n",
              "3       3  0.008219\n",
              "4       4  0.010959\n",
              "5       5  0.013699\n",
              "..    ...       ...\n",
              "361   361  0.989041\n",
              "362   362  0.991781\n",
              "363   363  0.994521\n",
              "364   364  0.997260\n",
              "365   365  1.000000\n",
              "\n",
              "[365 rows x 2 columns]"
            ]
          },
          "metadata": {
            "tags": []
          },
          "execution_count": 15
        }
      ]
    },
    {
      "cell_type": "code",
      "metadata": {
        "id": "u_ll-P5-QVd5",
        "colab": {
          "base_uri": "https://localhost:8080/",
          "height": 416
        },
        "outputId": "6c477de6-5b7b-44cd-c8ad-2e6d35a8f391"
      },
      "source": [
        "# Con esta tabla, se calcula el valor de Mean y Dev Std para cada día, según ecuaciones encontradas en bibliografía y\n",
        "# hojas de cálculo, teniendo en cuenta que:\n",
        "# Mu: Media de la devaluación\n",
        "# Sigma: Dev Std de la devaluación\n",
        "\n",
        "CVA_IBR['Mean'] = ((deval_mean)*CVA_IBR['Años']) \n",
        "CVA_IBR['Dev Std'] = (((deval_DevStd)*(np.sqrt(CVA_IBR['Años']))))\n",
        "CVA_IBR"
      ],
      "execution_count": 16,
      "outputs": [
        {
          "output_type": "execute_result",
          "data": {
            "text/html": [
              "<div>\n",
              "<style scoped>\n",
              "    .dataframe tbody tr th:only-of-type {\n",
              "        vertical-align: middle;\n",
              "    }\n",
              "\n",
              "    .dataframe tbody tr th {\n",
              "        vertical-align: top;\n",
              "    }\n",
              "\n",
              "    .dataframe thead th {\n",
              "        text-align: right;\n",
              "    }\n",
              "</style>\n",
              "<table border=\"1\" class=\"dataframe\">\n",
              "  <thead>\n",
              "    <tr style=\"text-align: right;\">\n",
              "      <th></th>\n",
              "      <th>Días</th>\n",
              "      <th>Años</th>\n",
              "      <th>Mean</th>\n",
              "      <th>Dev Std</th>\n",
              "    </tr>\n",
              "  </thead>\n",
              "  <tbody>\n",
              "    <tr>\n",
              "      <th>1</th>\n",
              "      <td>1</td>\n",
              "      <td>0.002740</td>\n",
              "      <td>0.008463</td>\n",
              "      <td>0.075822</td>\n",
              "    </tr>\n",
              "    <tr>\n",
              "      <th>2</th>\n",
              "      <td>2</td>\n",
              "      <td>0.005479</td>\n",
              "      <td>0.016927</td>\n",
              "      <td>0.107229</td>\n",
              "    </tr>\n",
              "    <tr>\n",
              "      <th>3</th>\n",
              "      <td>3</td>\n",
              "      <td>0.008219</td>\n",
              "      <td>0.025390</td>\n",
              "      <td>0.131328</td>\n",
              "    </tr>\n",
              "    <tr>\n",
              "      <th>4</th>\n",
              "      <td>4</td>\n",
              "      <td>0.010959</td>\n",
              "      <td>0.033854</td>\n",
              "      <td>0.151644</td>\n",
              "    </tr>\n",
              "    <tr>\n",
              "      <th>5</th>\n",
              "      <td>5</td>\n",
              "      <td>0.013699</td>\n",
              "      <td>0.042317</td>\n",
              "      <td>0.169544</td>\n",
              "    </tr>\n",
              "    <tr>\n",
              "      <th>...</th>\n",
              "      <td>...</td>\n",
              "      <td>...</td>\n",
              "      <td>...</td>\n",
              "      <td>...</td>\n",
              "    </tr>\n",
              "    <tr>\n",
              "      <th>361</th>\n",
              "      <td>361</td>\n",
              "      <td>0.989041</td>\n",
              "      <td>3.055318</td>\n",
              "      <td>1.440622</td>\n",
              "    </tr>\n",
              "    <tr>\n",
              "      <th>362</th>\n",
              "      <td>362</td>\n",
              "      <td>0.991781</td>\n",
              "      <td>3.063781</td>\n",
              "      <td>1.442616</td>\n",
              "    </tr>\n",
              "    <tr>\n",
              "      <th>363</th>\n",
              "      <td>363</td>\n",
              "      <td>0.994521</td>\n",
              "      <td>3.072245</td>\n",
              "      <td>1.444607</td>\n",
              "    </tr>\n",
              "    <tr>\n",
              "      <th>364</th>\n",
              "      <td>364</td>\n",
              "      <td>0.997260</td>\n",
              "      <td>3.080708</td>\n",
              "      <td>1.446596</td>\n",
              "    </tr>\n",
              "    <tr>\n",
              "      <th>365</th>\n",
              "      <td>365</td>\n",
              "      <td>1.000000</td>\n",
              "      <td>3.089172</td>\n",
              "      <td>1.448582</td>\n",
              "    </tr>\n",
              "  </tbody>\n",
              "</table>\n",
              "<p>365 rows × 4 columns</p>\n",
              "</div>"
            ],
            "text/plain": [
              "     Días      Años      Mean   Dev Std\n",
              "1       1  0.002740  0.008463  0.075822\n",
              "2       2  0.005479  0.016927  0.107229\n",
              "3       3  0.008219  0.025390  0.131328\n",
              "4       4  0.010959  0.033854  0.151644\n",
              "5       5  0.013699  0.042317  0.169544\n",
              "..    ...       ...       ...       ...\n",
              "361   361  0.989041  3.055318  1.440622\n",
              "362   362  0.991781  3.063781  1.442616\n",
              "363   363  0.994521  3.072245  1.444607\n",
              "364   364  0.997260  3.080708  1.446596\n",
              "365   365  1.000000  3.089172  1.448582\n",
              "\n",
              "[365 rows x 4 columns]"
            ]
          },
          "metadata": {
            "tags": []
          },
          "execution_count": 16
        }
      ]
    },
    {
      "cell_type": "code",
      "metadata": {
        "id": "LS2BS5tYUA1g",
        "colab": {
          "base_uri": "https://localhost:8080/",
          "height": 416
        },
        "outputId": "d699300f-99c3-478a-92c5-f154c66ec945"
      },
      "source": [
        "# Una vez hallados para cada día equivalente en año su Mean y DevStd, calculo la \n",
        "# exposición esperada o EE, mediante la ecuación encontrada en la bibliografía, es decir\n",
        "# el método Semi-Analítico\n",
        "from scipy.stats import norm\n",
        "CVA_IBR['EE'] = ((CVA_IBR['Mean']*norm.cdf(CVA_IBR['Mean']/CVA_IBR['Dev Std']))+\n",
        "             (CVA_IBR['Dev Std']*norm.pdf(CVA_IBR['Mean']/CVA_IBR['Dev Std'])))\n",
        "\n",
        "# También calculé el PFE o Posible exposición futura, también dada a la ecuación planteada allí:\n",
        "# Se asume como alpha = 90%\n",
        "alpha = 0.9\n",
        "CVA_IBR['PFE'] = CVA_IBR['Mean'] + (norm.ppf(alpha) * CVA_IBR['Dev Std'])\n",
        "\n",
        "CVA_IBR"
      ],
      "execution_count": 17,
      "outputs": [
        {
          "output_type": "execute_result",
          "data": {
            "text/html": [
              "<div>\n",
              "<style scoped>\n",
              "    .dataframe tbody tr th:only-of-type {\n",
              "        vertical-align: middle;\n",
              "    }\n",
              "\n",
              "    .dataframe tbody tr th {\n",
              "        vertical-align: top;\n",
              "    }\n",
              "\n",
              "    .dataframe thead th {\n",
              "        text-align: right;\n",
              "    }\n",
              "</style>\n",
              "<table border=\"1\" class=\"dataframe\">\n",
              "  <thead>\n",
              "    <tr style=\"text-align: right;\">\n",
              "      <th></th>\n",
              "      <th>Días</th>\n",
              "      <th>Años</th>\n",
              "      <th>Mean</th>\n",
              "      <th>Dev Std</th>\n",
              "      <th>EE</th>\n",
              "      <th>PFE</th>\n",
              "    </tr>\n",
              "  </thead>\n",
              "  <tbody>\n",
              "    <tr>\n",
              "      <th>1</th>\n",
              "      <td>1</td>\n",
              "      <td>0.002740</td>\n",
              "      <td>0.008463</td>\n",
              "      <td>0.075822</td>\n",
              "      <td>0.034669</td>\n",
              "      <td>0.105634</td>\n",
              "    </tr>\n",
              "    <tr>\n",
              "      <th>2</th>\n",
              "      <td>2</td>\n",
              "      <td>0.005479</td>\n",
              "      <td>0.016927</td>\n",
              "      <td>0.107229</td>\n",
              "      <td>0.051773</td>\n",
              "      <td>0.154346</td>\n",
              "    </tr>\n",
              "    <tr>\n",
              "      <th>3</th>\n",
              "      <td>3</td>\n",
              "      <td>0.008219</td>\n",
              "      <td>0.025390</td>\n",
              "      <td>0.131328</td>\n",
              "      <td>0.066064</td>\n",
              "      <td>0.193694</td>\n",
              "    </tr>\n",
              "    <tr>\n",
              "      <th>4</th>\n",
              "      <td>4</td>\n",
              "      <td>0.010959</td>\n",
              "      <td>0.033854</td>\n",
              "      <td>0.151644</td>\n",
              "      <td>0.078926</td>\n",
              "      <td>0.228194</td>\n",
              "    </tr>\n",
              "    <tr>\n",
              "      <th>5</th>\n",
              "      <td>5</td>\n",
              "      <td>0.013699</td>\n",
              "      <td>0.042317</td>\n",
              "      <td>0.169544</td>\n",
              "      <td>0.090893</td>\n",
              "      <td>0.259596</td>\n",
              "    </tr>\n",
              "    <tr>\n",
              "      <th>...</th>\n",
              "      <td>...</td>\n",
              "      <td>...</td>\n",
              "      <td>...</td>\n",
              "      <td>...</td>\n",
              "      <td>...</td>\n",
              "      <td>...</td>\n",
              "    </tr>\n",
              "    <tr>\n",
              "      <th>361</th>\n",
              "      <td>361</td>\n",
              "      <td>0.989041</td>\n",
              "      <td>3.055318</td>\n",
              "      <td>1.440622</td>\n",
              "      <td>3.064114</td>\n",
              "      <td>4.901550</td>\n",
              "    </tr>\n",
              "    <tr>\n",
              "      <th>362</th>\n",
              "      <td>362</td>\n",
              "      <td>0.991781</td>\n",
              "      <td>3.063781</td>\n",
              "      <td>1.442616</td>\n",
              "      <td>3.072518</td>\n",
              "      <td>4.912569</td>\n",
              "    </tr>\n",
              "    <tr>\n",
              "      <th>363</th>\n",
              "      <td>363</td>\n",
              "      <td>0.994521</td>\n",
              "      <td>3.072245</td>\n",
              "      <td>1.444607</td>\n",
              "      <td>3.080922</td>\n",
              "      <td>4.923584</td>\n",
              "    </tr>\n",
              "    <tr>\n",
              "      <th>364</th>\n",
              "      <td>364</td>\n",
              "      <td>0.997260</td>\n",
              "      <td>3.080708</td>\n",
              "      <td>1.446596</td>\n",
              "      <td>3.089327</td>\n",
              "      <td>4.934596</td>\n",
              "    </tr>\n",
              "    <tr>\n",
              "      <th>365</th>\n",
              "      <td>365</td>\n",
              "      <td>1.000000</td>\n",
              "      <td>3.089172</td>\n",
              "      <td>1.448582</td>\n",
              "      <td>3.097732</td>\n",
              "      <td>4.945604</td>\n",
              "    </tr>\n",
              "  </tbody>\n",
              "</table>\n",
              "<p>365 rows × 6 columns</p>\n",
              "</div>"
            ],
            "text/plain": [
              "     Días      Años      Mean   Dev Std        EE       PFE\n",
              "1       1  0.002740  0.008463  0.075822  0.034669  0.105634\n",
              "2       2  0.005479  0.016927  0.107229  0.051773  0.154346\n",
              "3       3  0.008219  0.025390  0.131328  0.066064  0.193694\n",
              "4       4  0.010959  0.033854  0.151644  0.078926  0.228194\n",
              "5       5  0.013699  0.042317  0.169544  0.090893  0.259596\n",
              "..    ...       ...       ...       ...       ...       ...\n",
              "361   361  0.989041  3.055318  1.440622  3.064114  4.901550\n",
              "362   362  0.991781  3.063781  1.442616  3.072518  4.912569\n",
              "363   363  0.994521  3.072245  1.444607  3.080922  4.923584\n",
              "364   364  0.997260  3.080708  1.446596  3.089327  4.934596\n",
              "365   365  1.000000  3.089172  1.448582  3.097732  4.945604\n",
              "\n",
              "[365 rows x 6 columns]"
            ]
          },
          "metadata": {
            "tags": []
          },
          "execution_count": 17
        }
      ]
    },
    {
      "cell_type": "code",
      "metadata": {
        "colab": {
          "base_uri": "https://localhost:8080/",
          "height": 416
        },
        "id": "yHcCo_e57BjY",
        "outputId": "fbfab74d-b87b-42af-e0d3-f54cc211155e"
      },
      "source": [
        "# Una vez calculado Exposición Esperada o EE, se calcula los \"Descount Factors\" o DF\n",
        "# Esto, mediante formulación planteada para resolver el ejemplo de la hoja de calculo 7.1 de la bibliografía\n",
        "# Se utiliza la tasa de interés de hoy (Asumiendo que hoy es: '2020-10-20'), con lo cual se ubica dicha tasa de interés dentro de la BD\n",
        "tasa_interes = ibr.iloc[1123,6]\n",
        "tasa_interes\n",
        "\n",
        "#Se procede con el cálculo del DF:\n",
        "CVA_IBR['DF'] = np.exp(-tasa_interes*CVA_IBR['Años'])\n",
        "CVA_IBR"
      ],
      "execution_count": 18,
      "outputs": [
        {
          "output_type": "execute_result",
          "data": {
            "text/html": [
              "<div>\n",
              "<style scoped>\n",
              "    .dataframe tbody tr th:only-of-type {\n",
              "        vertical-align: middle;\n",
              "    }\n",
              "\n",
              "    .dataframe tbody tr th {\n",
              "        vertical-align: top;\n",
              "    }\n",
              "\n",
              "    .dataframe thead th {\n",
              "        text-align: right;\n",
              "    }\n",
              "</style>\n",
              "<table border=\"1\" class=\"dataframe\">\n",
              "  <thead>\n",
              "    <tr style=\"text-align: right;\">\n",
              "      <th></th>\n",
              "      <th>Días</th>\n",
              "      <th>Años</th>\n",
              "      <th>Mean</th>\n",
              "      <th>Dev Std</th>\n",
              "      <th>EE</th>\n",
              "      <th>PFE</th>\n",
              "      <th>DF</th>\n",
              "    </tr>\n",
              "  </thead>\n",
              "  <tbody>\n",
              "    <tr>\n",
              "      <th>1</th>\n",
              "      <td>1</td>\n",
              "      <td>0.002740</td>\n",
              "      <td>0.008463</td>\n",
              "      <td>0.075822</td>\n",
              "      <td>0.034669</td>\n",
              "      <td>0.105634</td>\n",
              "      <td>0.999951</td>\n",
              "    </tr>\n",
              "    <tr>\n",
              "      <th>2</th>\n",
              "      <td>2</td>\n",
              "      <td>0.005479</td>\n",
              "      <td>0.016927</td>\n",
              "      <td>0.107229</td>\n",
              "      <td>0.051773</td>\n",
              "      <td>0.154346</td>\n",
              "      <td>0.999902</td>\n",
              "    </tr>\n",
              "    <tr>\n",
              "      <th>3</th>\n",
              "      <td>3</td>\n",
              "      <td>0.008219</td>\n",
              "      <td>0.025390</td>\n",
              "      <td>0.131328</td>\n",
              "      <td>0.066064</td>\n",
              "      <td>0.193694</td>\n",
              "      <td>0.999854</td>\n",
              "    </tr>\n",
              "    <tr>\n",
              "      <th>4</th>\n",
              "      <td>4</td>\n",
              "      <td>0.010959</td>\n",
              "      <td>0.033854</td>\n",
              "      <td>0.151644</td>\n",
              "      <td>0.078926</td>\n",
              "      <td>0.228194</td>\n",
              "      <td>0.999805</td>\n",
              "    </tr>\n",
              "    <tr>\n",
              "      <th>5</th>\n",
              "      <td>5</td>\n",
              "      <td>0.013699</td>\n",
              "      <td>0.042317</td>\n",
              "      <td>0.169544</td>\n",
              "      <td>0.090893</td>\n",
              "      <td>0.259596</td>\n",
              "      <td>0.999756</td>\n",
              "    </tr>\n",
              "    <tr>\n",
              "      <th>...</th>\n",
              "      <td>...</td>\n",
              "      <td>...</td>\n",
              "      <td>...</td>\n",
              "      <td>...</td>\n",
              "      <td>...</td>\n",
              "      <td>...</td>\n",
              "      <td>...</td>\n",
              "    </tr>\n",
              "    <tr>\n",
              "      <th>361</th>\n",
              "      <td>361</td>\n",
              "      <td>0.989041</td>\n",
              "      <td>3.055318</td>\n",
              "      <td>1.440622</td>\n",
              "      <td>3.064114</td>\n",
              "      <td>4.901550</td>\n",
              "      <td>0.982551</td>\n",
              "    </tr>\n",
              "    <tr>\n",
              "      <th>362</th>\n",
              "      <td>362</td>\n",
              "      <td>0.991781</td>\n",
              "      <td>3.063781</td>\n",
              "      <td>1.442616</td>\n",
              "      <td>3.072518</td>\n",
              "      <td>4.912569</td>\n",
              "      <td>0.982503</td>\n",
              "    </tr>\n",
              "    <tr>\n",
              "      <th>363</th>\n",
              "      <td>363</td>\n",
              "      <td>0.994521</td>\n",
              "      <td>3.072245</td>\n",
              "      <td>1.444607</td>\n",
              "      <td>3.080922</td>\n",
              "      <td>4.923584</td>\n",
              "      <td>0.982455</td>\n",
              "    </tr>\n",
              "    <tr>\n",
              "      <th>364</th>\n",
              "      <td>364</td>\n",
              "      <td>0.997260</td>\n",
              "      <td>3.080708</td>\n",
              "      <td>1.446596</td>\n",
              "      <td>3.089327</td>\n",
              "      <td>4.934596</td>\n",
              "      <td>0.982407</td>\n",
              "    </tr>\n",
              "    <tr>\n",
              "      <th>365</th>\n",
              "      <td>365</td>\n",
              "      <td>1.000000</td>\n",
              "      <td>3.089172</td>\n",
              "      <td>1.448582</td>\n",
              "      <td>3.097732</td>\n",
              "      <td>4.945604</td>\n",
              "      <td>0.982359</td>\n",
              "    </tr>\n",
              "  </tbody>\n",
              "</table>\n",
              "<p>365 rows × 7 columns</p>\n",
              "</div>"
            ],
            "text/plain": [
              "     Días      Años      Mean   Dev Std        EE       PFE        DF\n",
              "1       1  0.002740  0.008463  0.075822  0.034669  0.105634  0.999951\n",
              "2       2  0.005479  0.016927  0.107229  0.051773  0.154346  0.999902\n",
              "3       3  0.008219  0.025390  0.131328  0.066064  0.193694  0.999854\n",
              "4       4  0.010959  0.033854  0.151644  0.078926  0.228194  0.999805\n",
              "5       5  0.013699  0.042317  0.169544  0.090893  0.259596  0.999756\n",
              "..    ...       ...       ...       ...       ...       ...       ...\n",
              "361   361  0.989041  3.055318  1.440622  3.064114  4.901550  0.982551\n",
              "362   362  0.991781  3.063781  1.442616  3.072518  4.912569  0.982503\n",
              "363   363  0.994521  3.072245  1.444607  3.080922  4.923584  0.982455\n",
              "364   364  0.997260  3.080708  1.446596  3.089327  4.934596  0.982407\n",
              "365   365  1.000000  3.089172  1.448582  3.097732  4.945604  0.982359\n",
              "\n",
              "[365 rows x 7 columns]"
            ]
          },
          "metadata": {
            "tags": []
          },
          "execution_count": 18
        }
      ]
    },
    {
      "cell_type": "code",
      "metadata": {
        "colab": {
          "base_uri": "https://localhost:8080/",
          "height": 416
        },
        "id": "TLcMJ5GNDNV6",
        "outputId": "f6fbf513-6d0b-456a-8b43-a27cbed2277d"
      },
      "source": [
        "# Una vez ya calculados el EE y el DF, se empleará la ecuación práctica para calcular el CVA y DVA\n",
        "# Esta ecuación tiene un componente llamado Pérdida por incumplimiento (Loss given default), que es el\n",
        "# resultado de la resta de (1 - delta), siendo delta, la tasa de recuperación de ambas partes.\n",
        "# Por lo anterior, y según el planteamiento del ejercicio, la tasa de recuperación dee ambas partes es = 40%\n",
        "tr = 0.4\n",
        "\n",
        "# Otro factor, es la probabilidad de incumplimiento (Default Probability), siendo:\n",
        "# Para calcular DVA, probabilidad incumplimiento de Don José  = 2%\n",
        "# Para calcular CVA, probabilidad incumplimiento del banco = 0.5%\n",
        "DP_Banco = 0.02\n",
        "DP_Cliente = 0.005\n",
        "\n",
        "# Con lo anterior, procedemos con los respectivos cálculos:\n",
        "CVA_IBR['CVA'] = (1-tr)*(CVA_IBR['EE'])*(CVA_IBR['DF'])*(DP_Banco)\n",
        "CVA_IBR['DVA'] = (1-tr)*(CVA_IBR['EE'])*(CVA_IBR['DF'])*(DP_Cliente)\n",
        "CVA_IBR"
      ],
      "execution_count": 19,
      "outputs": [
        {
          "output_type": "execute_result",
          "data": {
            "text/html": [
              "<div>\n",
              "<style scoped>\n",
              "    .dataframe tbody tr th:only-of-type {\n",
              "        vertical-align: middle;\n",
              "    }\n",
              "\n",
              "    .dataframe tbody tr th {\n",
              "        vertical-align: top;\n",
              "    }\n",
              "\n",
              "    .dataframe thead th {\n",
              "        text-align: right;\n",
              "    }\n",
              "</style>\n",
              "<table border=\"1\" class=\"dataframe\">\n",
              "  <thead>\n",
              "    <tr style=\"text-align: right;\">\n",
              "      <th></th>\n",
              "      <th>Días</th>\n",
              "      <th>Años</th>\n",
              "      <th>Mean</th>\n",
              "      <th>Dev Std</th>\n",
              "      <th>EE</th>\n",
              "      <th>PFE</th>\n",
              "      <th>DF</th>\n",
              "      <th>CVA</th>\n",
              "      <th>DVA</th>\n",
              "    </tr>\n",
              "  </thead>\n",
              "  <tbody>\n",
              "    <tr>\n",
              "      <th>1</th>\n",
              "      <td>1</td>\n",
              "      <td>0.002740</td>\n",
              "      <td>0.008463</td>\n",
              "      <td>0.075822</td>\n",
              "      <td>0.034669</td>\n",
              "      <td>0.105634</td>\n",
              "      <td>0.999951</td>\n",
              "      <td>0.000416</td>\n",
              "      <td>0.000104</td>\n",
              "    </tr>\n",
              "    <tr>\n",
              "      <th>2</th>\n",
              "      <td>2</td>\n",
              "      <td>0.005479</td>\n",
              "      <td>0.016927</td>\n",
              "      <td>0.107229</td>\n",
              "      <td>0.051773</td>\n",
              "      <td>0.154346</td>\n",
              "      <td>0.999902</td>\n",
              "      <td>0.000621</td>\n",
              "      <td>0.000155</td>\n",
              "    </tr>\n",
              "    <tr>\n",
              "      <th>3</th>\n",
              "      <td>3</td>\n",
              "      <td>0.008219</td>\n",
              "      <td>0.025390</td>\n",
              "      <td>0.131328</td>\n",
              "      <td>0.066064</td>\n",
              "      <td>0.193694</td>\n",
              "      <td>0.999854</td>\n",
              "      <td>0.000793</td>\n",
              "      <td>0.000198</td>\n",
              "    </tr>\n",
              "    <tr>\n",
              "      <th>4</th>\n",
              "      <td>4</td>\n",
              "      <td>0.010959</td>\n",
              "      <td>0.033854</td>\n",
              "      <td>0.151644</td>\n",
              "      <td>0.078926</td>\n",
              "      <td>0.228194</td>\n",
              "      <td>0.999805</td>\n",
              "      <td>0.000947</td>\n",
              "      <td>0.000237</td>\n",
              "    </tr>\n",
              "    <tr>\n",
              "      <th>5</th>\n",
              "      <td>5</td>\n",
              "      <td>0.013699</td>\n",
              "      <td>0.042317</td>\n",
              "      <td>0.169544</td>\n",
              "      <td>0.090893</td>\n",
              "      <td>0.259596</td>\n",
              "      <td>0.999756</td>\n",
              "      <td>0.001090</td>\n",
              "      <td>0.000273</td>\n",
              "    </tr>\n",
              "    <tr>\n",
              "      <th>...</th>\n",
              "      <td>...</td>\n",
              "      <td>...</td>\n",
              "      <td>...</td>\n",
              "      <td>...</td>\n",
              "      <td>...</td>\n",
              "      <td>...</td>\n",
              "      <td>...</td>\n",
              "      <td>...</td>\n",
              "      <td>...</td>\n",
              "    </tr>\n",
              "    <tr>\n",
              "      <th>361</th>\n",
              "      <td>361</td>\n",
              "      <td>0.989041</td>\n",
              "      <td>3.055318</td>\n",
              "      <td>1.440622</td>\n",
              "      <td>3.064114</td>\n",
              "      <td>4.901550</td>\n",
              "      <td>0.982551</td>\n",
              "      <td>0.036128</td>\n",
              "      <td>0.009032</td>\n",
              "    </tr>\n",
              "    <tr>\n",
              "      <th>362</th>\n",
              "      <td>362</td>\n",
              "      <td>0.991781</td>\n",
              "      <td>3.063781</td>\n",
              "      <td>1.442616</td>\n",
              "      <td>3.072518</td>\n",
              "      <td>4.912569</td>\n",
              "      <td>0.982503</td>\n",
              "      <td>0.036225</td>\n",
              "      <td>0.009056</td>\n",
              "    </tr>\n",
              "    <tr>\n",
              "      <th>363</th>\n",
              "      <td>363</td>\n",
              "      <td>0.994521</td>\n",
              "      <td>3.072245</td>\n",
              "      <td>1.444607</td>\n",
              "      <td>3.080922</td>\n",
              "      <td>4.923584</td>\n",
              "      <td>0.982455</td>\n",
              "      <td>0.036322</td>\n",
              "      <td>0.009081</td>\n",
              "    </tr>\n",
              "    <tr>\n",
              "      <th>364</th>\n",
              "      <td>364</td>\n",
              "      <td>0.997260</td>\n",
              "      <td>3.080708</td>\n",
              "      <td>1.446596</td>\n",
              "      <td>3.089327</td>\n",
              "      <td>4.934596</td>\n",
              "      <td>0.982407</td>\n",
              "      <td>0.036420</td>\n",
              "      <td>0.009105</td>\n",
              "    </tr>\n",
              "    <tr>\n",
              "      <th>365</th>\n",
              "      <td>365</td>\n",
              "      <td>1.000000</td>\n",
              "      <td>3.089172</td>\n",
              "      <td>1.448582</td>\n",
              "      <td>3.097732</td>\n",
              "      <td>4.945604</td>\n",
              "      <td>0.982359</td>\n",
              "      <td>0.036517</td>\n",
              "      <td>0.009129</td>\n",
              "    </tr>\n",
              "  </tbody>\n",
              "</table>\n",
              "<p>365 rows × 9 columns</p>\n",
              "</div>"
            ],
            "text/plain": [
              "     Días      Años      Mean   Dev Std  ...       PFE        DF       CVA       DVA\n",
              "1       1  0.002740  0.008463  0.075822  ...  0.105634  0.999951  0.000416  0.000104\n",
              "2       2  0.005479  0.016927  0.107229  ...  0.154346  0.999902  0.000621  0.000155\n",
              "3       3  0.008219  0.025390  0.131328  ...  0.193694  0.999854  0.000793  0.000198\n",
              "4       4  0.010959  0.033854  0.151644  ...  0.228194  0.999805  0.000947  0.000237\n",
              "5       5  0.013699  0.042317  0.169544  ...  0.259596  0.999756  0.001090  0.000273\n",
              "..    ...       ...       ...       ...  ...       ...       ...       ...       ...\n",
              "361   361  0.989041  3.055318  1.440622  ...  4.901550  0.982551  0.036128  0.009032\n",
              "362   362  0.991781  3.063781  1.442616  ...  4.912569  0.982503  0.036225  0.009056\n",
              "363   363  0.994521  3.072245  1.444607  ...  4.923584  0.982455  0.036322  0.009081\n",
              "364   364  0.997260  3.080708  1.446596  ...  4.934596  0.982407  0.036420  0.009105\n",
              "365   365  1.000000  3.089172  1.448582  ...  4.945604  0.982359  0.036517  0.009129\n",
              "\n",
              "[365 rows x 9 columns]"
            ]
          },
          "metadata": {
            "tags": []
          },
          "execution_count": 19
        }
      ]
    },
    {
      "cell_type": "code",
      "metadata": {
        "colab": {
          "base_uri": "https://localhost:8080/",
          "height": 110
        },
        "id": "91zqw5kbIqpf",
        "outputId": "25eef099-8a57-484b-b3bb-37237d1de7ca"
      },
      "source": [
        "# Dado el ejercicio, que establece un horizonte de 1 mes y 2 meses, obtenienen los siguientes resultados:\n",
        "tabla = pd.DataFrame({'30 dias': [round(sum(CVA_IBR.loc[:30,'CVA']),6),round(sum(CVA_IBR.loc[:30,'DVA']),6)], \n",
        "                      '60 dias': [round(sum(CVA_IBR.loc[:60,'CVA']),6),round(sum(CVA_IBR.loc[:60,'DVA']),6)]},\n",
        "                      index=['Exposición Banco','Exposición Cliente'])\n",
        "tabla"
      ],
      "execution_count": 20,
      "outputs": [
        {
          "output_type": "execute_result",
          "data": {
            "text/html": [
              "<div>\n",
              "<style scoped>\n",
              "    .dataframe tbody tr th:only-of-type {\n",
              "        vertical-align: middle;\n",
              "    }\n",
              "\n",
              "    .dataframe tbody tr th {\n",
              "        vertical-align: top;\n",
              "    }\n",
              "\n",
              "    .dataframe thead th {\n",
              "        text-align: right;\n",
              "    }\n",
              "</style>\n",
              "<table border=\"1\" class=\"dataframe\">\n",
              "  <thead>\n",
              "    <tr style=\"text-align: right;\">\n",
              "      <th></th>\n",
              "      <th>30 dias</th>\n",
              "      <th>60 dias</th>\n",
              "    </tr>\n",
              "  </thead>\n",
              "  <tbody>\n",
              "    <tr>\n",
              "      <th>Exposición Banco</th>\n",
              "      <td>0.068777</td>\n",
              "      <td>0.230952</td>\n",
              "    </tr>\n",
              "    <tr>\n",
              "      <th>Exposición Cliente</th>\n",
              "      <td>0.017194</td>\n",
              "      <td>0.057738</td>\n",
              "    </tr>\n",
              "  </tbody>\n",
              "</table>\n",
              "</div>"
            ],
            "text/plain": [
              "                     30 dias   60 dias\n",
              "Exposición Banco    0.068777  0.230952\n",
              "Exposición Cliente  0.017194  0.057738"
            ]
          },
          "metadata": {
            "tags": []
          },
          "execution_count": 20
        }
      ]
    },
    {
      "cell_type": "code",
      "metadata": {
        "colab": {
          "base_uri": "https://localhost:8080/",
          "height": 110
        },
        "id": "TVdbEISgLaVq",
        "outputId": "323499fc-a4e8-43b5-eaf9-a212df9887c5"
      },
      "source": [
        "# Esto quiere decir, que si el monto es de $100.000 USD, el CVA y DVA, sería, \n",
        "# (Se divide entre 100 dado que no están en formato porcentaje las anteriores cifras), \n",
        "# en los dos horizontes, para ambos, el siguiente riesgo:\n",
        "\n",
        "tabla_USD = (tabla*100000)/100\n",
        "tabla_USD"
      ],
      "execution_count": 21,
      "outputs": [
        {
          "output_type": "execute_result",
          "data": {
            "text/html": [
              "<div>\n",
              "<style scoped>\n",
              "    .dataframe tbody tr th:only-of-type {\n",
              "        vertical-align: middle;\n",
              "    }\n",
              "\n",
              "    .dataframe tbody tr th {\n",
              "        vertical-align: top;\n",
              "    }\n",
              "\n",
              "    .dataframe thead th {\n",
              "        text-align: right;\n",
              "    }\n",
              "</style>\n",
              "<table border=\"1\" class=\"dataframe\">\n",
              "  <thead>\n",
              "    <tr style=\"text-align: right;\">\n",
              "      <th></th>\n",
              "      <th>30 dias</th>\n",
              "      <th>60 dias</th>\n",
              "    </tr>\n",
              "  </thead>\n",
              "  <tbody>\n",
              "    <tr>\n",
              "      <th>Exposición Banco</th>\n",
              "      <td>68.777</td>\n",
              "      <td>230.952</td>\n",
              "    </tr>\n",
              "    <tr>\n",
              "      <th>Exposición Cliente</th>\n",
              "      <td>17.194</td>\n",
              "      <td>57.738</td>\n",
              "    </tr>\n",
              "  </tbody>\n",
              "</table>\n",
              "</div>"
            ],
            "text/plain": [
              "                    30 dias  60 dias\n",
              "Exposición Banco     68.777  230.952\n",
              "Exposición Cliente   17.194   57.738"
            ]
          },
          "metadata": {
            "tags": []
          },
          "execution_count": 21
        }
      ]
    },
    {
      "cell_type": "code",
      "metadata": {
        "colab": {
          "base_uri": "https://localhost:8080/",
          "height": 300
        },
        "id": "J1ybhOgyO_Ks",
        "outputId": "564b7602-51c3-47e9-f3e2-e17086ebb4d5"
      },
      "source": [
        "# Así, como en el libro referencia, mostramos, la gráfica empleando EE y lo que implicaría\n",
        "# reemplazar en la ecuación, el EE, por el PFE:\n",
        "\n",
        "plt.style.use('ggplot')\n",
        "plt.plot(CVA_IBR['Días'], CVA_IBR['EE'], label = 'EE') \n",
        "plt.plot(CVA_IBR['Días'], CVA_IBR['PFE'], label = 'PFE')\n",
        "plt.legend()\n",
        "plt.title('Exposición con Devaluación Teórica (IBR)')\n",
        "plt.xlabel('Dias')\n",
        "plt.ylabel('Exposición')\n",
        "plt.show()"
      ],
      "execution_count": 22,
      "outputs": [
        {
          "output_type": "display_data",
          "data": {
            "image/png": "[encoded data removed]",
            "text/plain": [
              "<Figure size 432x288 with 1 Axes>"
            ]
          },
          "metadata": {
            "tags": []
          }
        }
      ]
    },
    {
      "cell_type": "markdown",
      "metadata": {
        "id": "zwp43w6KLaVl"
      },
      "source": [
        "# Modelo CVA - DVA empleando factor de riesgo: TRM"
      ]
    },
    {
      "cell_type": "code",
      "metadata": {
        "colab": {
          "base_uri": "https://localhost:8080/",
          "height": 416
        },
        "id": "AhgXJTtXQFB7",
        "outputId": "72fc7289-d5da-47a2-a069-4212abe0bc20"
      },
      "source": [
        "# Se repite de forma similar los pasos realizados para el anterior cálculo del CVA - DVA\n",
        "# Creamos una tabla con proyección de 1 a 365 días (Pudo haber sido, solo hasta 60 que es el horizonte de 2 meses planteado en el ejercicio)\n",
        "CVA_TRM = pd.DataFrame(index=np.arange(1,366),columns='Días Años'.split())\n",
        "CVA_TRM['Días'] = np.arange(1,366)\n",
        "\n",
        "# Se calcula el equivalente en años, de cada día, para la columna Años\n",
        "CVA_TRM['Años'] = CVA_TRM['Días']/365\n",
        "\n",
        "# Calcula el valor de Mean y Dev Std para cada día\n",
        "CVA_TRM['Mean'] = ((trm_mean_año/100)*CVA_TRM['Años']) \n",
        "CVA_TRM['Dev Std'] = (((trm_DevStd_año/100)*(np.sqrt(CVA_TRM['Años']))))\n",
        "\n",
        "# calculo de la exposición esperada o EE, según método Semi-Analítico\n",
        "from scipy.stats import norm\n",
        "CVA_TRM['EE'] = (((CVA_TRM['Mean']*norm.cdf(CVA_TRM['Mean']/CVA_TRM['Dev Std']))+\n",
        "             (CVA_TRM['Dev Std']*norm.pdf(CVA_TRM['Mean']/CVA_TRM['Dev Std']))))*100\n",
        "\n",
        "# Calculo del PFE o Posible exposición futura, asumiendo alpha = 90%\n",
        "alpha = 0.9\n",
        "CVA_TRM['PFE'] = (CVA_TRM['Mean'] + (norm.ppf(alpha) * CVA_TRM['Dev Std']))*100\n",
        "\n",
        "# Se utiliza la tasa de interés igual a como se usó en el anterior cálculo del CVA \n",
        "# (Asumiendo que hoy es: '2020-10-20'), ubicada dicha tasa de interés dentro de la BD\n",
        "# Dado que allí está representadas las tasas, para esta fecha proyectada a 360 días, cosa que\n",
        "# no tiene la tabla de TRM\n",
        "tasa_interes = ibr.iloc[1123,6]\n",
        "\n",
        "# Cálculo del DF:\n",
        "CVA_TRM['DF'] = np.exp(-tasa_interes*CVA_TRM['Años'])\n",
        "\n",
        "# Siendo Pérdida por incumplimiento (1 - delta), la tasa de recuperación de ambas parte es = 40%\n",
        "tr = 0.4\n",
        "\n",
        "# Para calcular DVA, probabilidad incumplimiento de Don José = 2%\n",
        "# Para calcular CVA, probabilidad incumplimiento del banco = 0.5%\n",
        "DP_Banco = 0.02\n",
        "DP_Cliente = 0.005\n",
        "\n",
        "# Con lo anterior, procedemos con los respectivos cálculos:\n",
        "CVA_TRM['CVA'] = (1-tr)*(CVA_TRM['EE'])*(CVA_TRM['DF'])*(DP_Banco)\n",
        "CVA_TRM['DVA'] = (1-tr)*(CVA_TRM['EE'])*(CVA_TRM['DF'])*(DP_Cliente)\n",
        "CVA_TRM"
      ],
      "execution_count": 23,
      "outputs": [
        {
          "output_type": "execute_result",
          "data": {
            "text/html": [
              "<div>\n",
              "<style scoped>\n",
              "    .dataframe tbody tr th:only-of-type {\n",
              "        vertical-align: middle;\n",
              "    }\n",
              "\n",
              "    .dataframe tbody tr th {\n",
              "        vertical-align: top;\n",
              "    }\n",
              "\n",
              "    .dataframe thead th {\n",
              "        text-align: right;\n",
              "    }\n",
              "</style>\n",
              "<table border=\"1\" class=\"dataframe\">\n",
              "  <thead>\n",
              "    <tr style=\"text-align: right;\">\n",
              "      <th></th>\n",
              "      <th>Días</th>\n",
              "      <th>Años</th>\n",
              "      <th>Mean</th>\n",
              "      <th>Dev Std</th>\n",
              "      <th>EE</th>\n",
              "      <th>PFE</th>\n",
              "      <th>DF</th>\n",
              "      <th>CVA</th>\n",
              "      <th>DVA</th>\n",
              "    </tr>\n",
              "  </thead>\n",
              "  <tbody>\n",
              "    <tr>\n",
              "      <th>1</th>\n",
              "      <td>1</td>\n",
              "      <td>0.002740</td>\n",
              "      <td>0.000394</td>\n",
              "      <td>0.007489</td>\n",
              "      <td>0.318890</td>\n",
              "      <td>0.999181</td>\n",
              "      <td>0.999951</td>\n",
              "      <td>0.003826</td>\n",
              "      <td>0.000957</td>\n",
              "    </tr>\n",
              "    <tr>\n",
              "      <th>2</th>\n",
              "      <td>2</td>\n",
              "      <td>0.005479</td>\n",
              "      <td>0.000788</td>\n",
              "      <td>0.010591</td>\n",
              "      <td>0.463104</td>\n",
              "      <td>1.436137</td>\n",
              "      <td>0.999902</td>\n",
              "      <td>0.005557</td>\n",
              "      <td>0.001389</td>\n",
              "    </tr>\n",
              "    <tr>\n",
              "      <th>3</th>\n",
              "      <td>3</td>\n",
              "      <td>0.008219</td>\n",
              "      <td>0.001182</td>\n",
              "      <td>0.012972</td>\n",
              "      <td>0.578745</td>\n",
              "      <td>1.780593</td>\n",
              "      <td>0.999854</td>\n",
              "      <td>0.006944</td>\n",
              "      <td>0.001736</td>\n",
              "    </tr>\n",
              "    <tr>\n",
              "      <th>4</th>\n",
              "      <td>4</td>\n",
              "      <td>0.010959</td>\n",
              "      <td>0.001576</td>\n",
              "      <td>0.014978</td>\n",
              "      <td>0.679661</td>\n",
              "      <td>2.077167</td>\n",
              "      <td>0.999805</td>\n",
              "      <td>0.008154</td>\n",
              "      <td>0.002039</td>\n",
              "    </tr>\n",
              "    <tr>\n",
              "      <th>5</th>\n",
              "      <td>5</td>\n",
              "      <td>0.013699</td>\n",
              "      <td>0.001970</td>\n",
              "      <td>0.016746</td>\n",
              "      <td>0.771206</td>\n",
              "      <td>2.343142</td>\n",
              "      <td>0.999756</td>\n",
              "      <td>0.009252</td>\n",
              "      <td>0.002313</td>\n",
              "    </tr>\n",
              "    <tr>\n",
              "      <th>...</th>\n",
              "      <td>...</td>\n",
              "      <td>...</td>\n",
              "      <td>...</td>\n",
              "      <td>...</td>\n",
              "      <td>...</td>\n",
              "      <td>...</td>\n",
              "      <td>...</td>\n",
              "      <td>...</td>\n",
              "      <td>...</td>\n",
              "    </tr>\n",
              "    <tr>\n",
              "      <th>361</th>\n",
              "      <td>361</td>\n",
              "      <td>0.989041</td>\n",
              "      <td>0.142241</td>\n",
              "      <td>0.142295</td>\n",
              "      <td>15.410530</td>\n",
              "      <td>32.459954</td>\n",
              "      <td>0.982551</td>\n",
              "      <td>0.181700</td>\n",
              "      <td>0.045425</td>\n",
              "    </tr>\n",
              "    <tr>\n",
              "      <th>362</th>\n",
              "      <td>362</td>\n",
              "      <td>0.991781</td>\n",
              "      <td>0.142636</td>\n",
              "      <td>0.142492</td>\n",
              "      <td>15.448448</td>\n",
              "      <td>32.524596</td>\n",
              "      <td>0.982503</td>\n",
              "      <td>0.182138</td>\n",
              "      <td>0.045534</td>\n",
              "    </tr>\n",
              "    <tr>\n",
              "      <th>363</th>\n",
              "      <td>363</td>\n",
              "      <td>0.994521</td>\n",
              "      <td>0.143030</td>\n",
              "      <td>0.142688</td>\n",
              "      <td>15.486366</td>\n",
              "      <td>32.589204</td>\n",
              "      <td>0.982455</td>\n",
              "      <td>0.182576</td>\n",
              "      <td>0.045644</td>\n",
              "    </tr>\n",
              "    <tr>\n",
              "      <th>364</th>\n",
              "      <td>364</td>\n",
              "      <td>0.997260</td>\n",
              "      <td>0.143424</td>\n",
              "      <td>0.142885</td>\n",
              "      <td>15.524284</td>\n",
              "      <td>32.653776</td>\n",
              "      <td>0.982407</td>\n",
              "      <td>0.183014</td>\n",
              "      <td>0.045754</td>\n",
              "    </tr>\n",
              "    <tr>\n",
              "      <th>365</th>\n",
              "      <td>365</td>\n",
              "      <td>1.000000</td>\n",
              "      <td>0.143818</td>\n",
              "      <td>0.143081</td>\n",
              "      <td>15.562201</td>\n",
              "      <td>32.718314</td>\n",
              "      <td>0.982359</td>\n",
              "      <td>0.183452</td>\n",
              "      <td>0.045863</td>\n",
              "    </tr>\n",
              "  </tbody>\n",
              "</table>\n",
              "<p>365 rows × 9 columns</p>\n",
              "</div>"
            ],
            "text/plain": [
              "     Días      Años      Mean  ...        DF       CVA       DVA\n",
              "1       1  0.002740  0.000394  ...  0.999951  0.003826  0.000957\n",
              "2       2  0.005479  0.000788  ...  0.999902  0.005557  0.001389\n",
              "3       3  0.008219  0.001182  ...  0.999854  0.006944  0.001736\n",
              "4       4  0.010959  0.001576  ...  0.999805  0.008154  0.002039\n",
              "5       5  0.013699  0.001970  ...  0.999756  0.009252  0.002313\n",
              "..    ...       ...       ...  ...       ...       ...       ...\n",
              "361   361  0.989041  0.142241  ...  0.982551  0.181700  0.045425\n",
              "362   362  0.991781  0.142636  ...  0.982503  0.182138  0.045534\n",
              "363   363  0.994521  0.143030  ...  0.982455  0.182576  0.045644\n",
              "364   364  0.997260  0.143424  ...  0.982407  0.183014  0.045754\n",
              "365   365  1.000000  0.143818  ...  0.982359  0.183452  0.045863\n",
              "\n",
              "[365 rows x 9 columns]"
            ]
          },
          "metadata": {
            "tags": []
          },
          "execution_count": 23
        }
      ]
    },
    {
      "cell_type": "code",
      "metadata": {
        "colab": {
          "base_uri": "https://localhost:8080/",
          "height": 110
        },
        "id": "9iyGBhUZap__",
        "outputId": "390241f3-e3f1-4d70-ed08-36af99c010e5"
      },
      "source": [
        "# Dado el ejercicio, que establece un horizonte de 1 mes y 2 meses, obtenienen los siguientes resultados:\n",
        "tabla_TRM = pd.DataFrame({'30 dias': [round(sum(CVA_TRM.loc[:30,'CVA']),6),round(sum(CVA_TRM.loc[:30,'DVA']),6)], \n",
        "                      '60 dias': [round(sum(CVA_TRM.loc[:60,'CVA']),6),round(sum(CVA_TRM.loc[:60,'DVA']),6)]},\n",
        "                      index=['Exposición Banco','Exposición Cliente'])\n",
        "tabla_TRM"
      ],
      "execution_count": 24,
      "outputs": [
        {
          "output_type": "execute_result",
          "data": {
            "text/html": [
              "<div>\n",
              "<style scoped>\n",
              "    .dataframe tbody tr th:only-of-type {\n",
              "        vertical-align: middle;\n",
              "    }\n",
              "\n",
              "    .dataframe tbody tr th {\n",
              "        vertical-align: top;\n",
              "    }\n",
              "\n",
              "    .dataframe thead th {\n",
              "        text-align: right;\n",
              "    }\n",
              "</style>\n",
              "<table border=\"1\" class=\"dataframe\">\n",
              "  <thead>\n",
              "    <tr style=\"text-align: right;\">\n",
              "      <th></th>\n",
              "      <th>30 dias</th>\n",
              "      <th>60 dias</th>\n",
              "    </tr>\n",
              "  </thead>\n",
              "  <tbody>\n",
              "    <tr>\n",
              "      <th>Exposición Banco</th>\n",
              "      <td>0.521449</td>\n",
              "      <td>1.609655</td>\n",
              "    </tr>\n",
              "    <tr>\n",
              "      <th>Exposición Cliente</th>\n",
              "      <td>0.130362</td>\n",
              "      <td>0.402414</td>\n",
              "    </tr>\n",
              "  </tbody>\n",
              "</table>\n",
              "</div>"
            ],
            "text/plain": [
              "                     30 dias   60 dias\n",
              "Exposición Banco    0.521449  1.609655\n",
              "Exposición Cliente  0.130362  0.402414"
            ]
          },
          "metadata": {
            "tags": []
          },
          "execution_count": 24
        }
      ]
    },
    {
      "cell_type": "code",
      "metadata": {
        "colab": {
          "base_uri": "https://localhost:8080/",
          "height": 110
        },
        "id": "xMiujBxfbDZc",
        "outputId": "84839838-ace7-4a7b-c0d3-22976c8b65b0"
      },
      "source": [
        "# Esto quiere decir, que si el monto es de $100.000 USD, el CVA y DVA, sería, \n",
        "# (Se divide entre 100 dado que no están en formato porcentaje las anteriores cifras), \n",
        "# en los dos horizontes, para ambos, el siguiente riesgo:\n",
        "\n",
        "tabla_TRM_USD = (tabla_TRM*100000)/100\n",
        "tabla_TRM_USD"
      ],
      "execution_count": 25,
      "outputs": [
        {
          "output_type": "execute_result",
          "data": {
            "text/html": [
              "<div>\n",
              "<style scoped>\n",
              "    .dataframe tbody tr th:only-of-type {\n",
              "        vertical-align: middle;\n",
              "    }\n",
              "\n",
              "    .dataframe tbody tr th {\n",
              "        vertical-align: top;\n",
              "    }\n",
              "\n",
              "    .dataframe thead th {\n",
              "        text-align: right;\n",
              "    }\n",
              "</style>\n",
              "<table border=\"1\" class=\"dataframe\">\n",
              "  <thead>\n",
              "    <tr style=\"text-align: right;\">\n",
              "      <th></th>\n",
              "      <th>30 dias</th>\n",
              "      <th>60 dias</th>\n",
              "    </tr>\n",
              "  </thead>\n",
              "  <tbody>\n",
              "    <tr>\n",
              "      <th>Exposición Banco</th>\n",
              "      <td>521.449</td>\n",
              "      <td>1609.655</td>\n",
              "    </tr>\n",
              "    <tr>\n",
              "      <th>Exposición Cliente</th>\n",
              "      <td>130.362</td>\n",
              "      <td>402.414</td>\n",
              "    </tr>\n",
              "  </tbody>\n",
              "</table>\n",
              "</div>"
            ],
            "text/plain": [
              "                    30 dias   60 dias\n",
              "Exposición Banco    521.449  1609.655\n",
              "Exposición Cliente  130.362   402.414"
            ]
          },
          "metadata": {
            "tags": []
          },
          "execution_count": 25
        }
      ]
    },
    {
      "cell_type": "code",
      "metadata": {
        "colab": {
          "base_uri": "https://localhost:8080/",
          "height": 300
        },
        "id": "ky42RDcHbdE1",
        "outputId": "abcec257-065d-4a75-a21f-185a78b3a987"
      },
      "source": [
        "# ráfica empleando EE y lo que implicaría reemplazar en la ecuación, el EE, por el PFE:\n",
        "\n",
        "plt.plot(CVA_TRM['Días'], CVA_TRM['EE'], label = 'EE') \n",
        "plt.plot(CVA_TRM['Días'], CVA_TRM['PFE'], label = 'PFE')\n",
        "plt.legend()\n",
        "plt.title('Exposición con Devaluación Real (TRM)')\n",
        "plt.xlabel('Días')\n",
        "plt.ylabel('Exposición')\n",
        "plt.show()"
      ],
      "execution_count": 26,
      "outputs": [
        {
          "output_type": "display_data",
          "data": {
            "image/png": "[encoded data removed]",
            "text/plain": [
              "<Figure size 432x288 with 1 Axes>"
            ]
          },
          "metadata": {
            "tags": []
          }
        }
      ]
    }
  ]
}